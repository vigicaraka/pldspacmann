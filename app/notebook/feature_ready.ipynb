{
 "cells": [
  {
   "cell_type": "markdown",
   "id": "e0ae20f3",
   "metadata": {},
   "source": [
    "# Milestone: Feature Ready"
   ]
  },
  {
   "cell_type": "markdown",
   "id": "a746cd55",
   "metadata": {},
   "source": [
    "Notebook ini akan menjelaskan tahapan/proses yang dilakukan dalam melakukan feature selection, feature engineering, dan pemodelan atas dataset IVF. Data visualization untuk feature selection dilakukan pada notebook terpisah. Proses sampai dengan tahapan feature ready."
   ]
  },
  {
   "cell_type": "markdown",
   "id": "04d09ec0",
   "metadata": {},
   "source": [
    "## Import Library"
   ]
  },
  {
   "cell_type": "code",
   "execution_count": 1,
   "id": "83938e90",
   "metadata": {},
   "outputs": [],
   "source": [
    "import pandas as pd\n",
    "import numpy as np\n",
    "import joblib\n",
    "\n",
    "%matplotlib inline\n",
    "pd.set_option('display.max_rows', 500)"
   ]
  },
  {
   "cell_type": "markdown",
   "id": "babbdcdd",
   "metadata": {},
   "source": [
    "## Data Pre-Processing"
   ]
  },
  {
   "cell_type": "markdown",
   "id": "535d4655",
   "metadata": {},
   "source": [
    "### Read Files"
   ]
  },
  {
   "cell_type": "code",
   "execution_count": null,
   "id": "226804c1",
   "metadata": {},
   "outputs": [],
   "source": [
    "df1 = pd.read_excel('../data/ar-2010-2014-xlsb.xlsb', engine='pyxlsb')\n",
    "df2 = pd.read_excel('../data/ar-2015-2016-xlsb.xlsb', engine='pyxlsb')"
   ]
  },
  {
   "cell_type": "markdown",
   "id": "4dccbd66",
   "metadata": {},
   "source": [
    "### Menggabungkan dataframe df1 dan df2"
   ]
  },
  {
   "cell_type": "markdown",
   "id": "597c91c3",
   "metadata": {},
   "source": [
    "Dataset di atas terbagi menjadi dua, yaitu df1 (data dari tahun 2010 sampai dengan tahun 2014) dan df2 (data dari tahun 2015 sampai dengan tahun 2016).\n",
    "Pada tahap ini, kami akan menggabungkan df1 dan df2. Feature pada df1 dan df2 sama (saat dicek apakah kolom pada df1 dan df2, hasil menunjukkan kedua dataframe memiliki kolom yang sama). Berikut ini cara kami menggabungkan kedua dataframe tersebut."
   ]
  },
  {
   "cell_type": "code",
   "execution_count": 3,
   "id": "84556053",
   "metadata": {},
   "outputs": [],
   "source": [
    "df = pd.concat([df1, df2])"
   ]
  },
  {
   "cell_type": "markdown",
   "id": "45f37446",
   "metadata": {},
   "source": [
    "### Feature Selection dan Engineering"
   ]
  },
  {
   "cell_type": "markdown",
   "id": "8e420f30",
   "metadata": {},
   "source": [
    "Function untuk melakukan feature selection pada colom yang ditentukan dan function engineering untuk casting type dan pembuatan dummy variables."
   ]
  },
  {
   "cell_type": "code",
   "execution_count": 4,
   "id": "942aac2c",
   "metadata": {},
   "outputs": [],
   "source": [
    "def feature_selection(df, column_use):\n",
    "    \n",
    "    # hanya menggunakan column yang didefinisikan\n",
    "    df = df[column_use]\n",
    "    \n",
    "    # drop missing observation\n",
    "    df = df.dropna()\n",
    "    \n",
    "    return df\n",
    "\n",
    "def feature_engineering(df, patient_age_value, to_int_feature, to_dummy_feature):\n",
    "    \n",
    "    # ubah patient age treatment menjadi ordinal value\n",
    "    df['Patient Age at Treatment'] = df['Patient Age at Treatment'].replace(patient_age_value)\n",
    "    \n",
    "    # ubah data dengan value '>=5' menjadi 6\n",
    "    for col in to_int_feature:\n",
    "        df[col] = df[col].replace({'>=5':6})\n",
    "    \n",
    "    # ubah fitur dengan type object menjadi int\n",
    "    for col in to_int_feature:\n",
    "        df[col] = pd.to_numeric(df[col])\n",
    "        \n",
    "    # ubah categorical menjadi dummy feature\n",
    "    for col in to_dummy_feature:\n",
    "        dum = pd.get_dummies(df[col], prefix=col)\n",
    "        df = pd.concat([df, dum], axis=1)\n",
    "        df.drop(col, axis=1, inplace=True)\n",
    "        \n",
    "    return df"
   ]
  },
  {
   "cell_type": "markdown",
   "id": "73ddd6e7",
   "metadata": {},
   "source": [
    "Membersihkan data agar siap diproses dengan melakukan feature selection dan engineering."
   ]
  },
  {
   "cell_type": "code",
   "execution_count": 5,
   "id": "168842a8",
   "metadata": {},
   "outputs": [],
   "source": [
    "col_use = ['Patient Age at Treatment',\n",
    "       'Total Number of Previous cycles, Both IVF and DI',\n",
    "       'Total Number of Previous treatments, Both IVF and DI at clinic',\n",
    "       'Total Number of Previous IVF cycles',\n",
    "       'Total Number of Previous DI cycles',\n",
    "       'Total number of previous pregnancies, Both IVF and DI',\n",
    "       'Total number of IVF pregnancies', 'Total number of DI pregnancies',\n",
    "       'Total number of live births - conceived through IVF or DI',\n",
    "       'Total number of live births - conceived through IVF',\n",
    "       'Total number of live births - conceived through DI',\n",
    "       'Type of Infertility - Female Primary',\n",
    "       'Type of Infertility - Female Secondary',\n",
    "       'Type of Infertility - Male Primary',\n",
    "       'Type of Infertility - Male Secondary',\n",
    "       'Type of Infertility -Couple Primary',\n",
    "       'Type of Infertility -Couple Secondary',\n",
    "       'Cause  of Infertility - Tubal disease',\n",
    "       'Cause of Infertility - Ovulatory Disorder',\n",
    "       'Cause of Infertility - Male Factor',\n",
    "       'Cause of Infertility - Patient Unexplained',\n",
    "       'Cause of Infertility - Endometriosis',\n",
    "       'Stimulation used', 'Type of treatment - IVF or DI',\n",
    "       'Specific treatment type', 'Live Birth Occurrence',\n",
    "           'Sperm From', 'Number of Live Births',\n",
    "       'Number of foetal sacs with fetal pulsation']\n",
    "\n",
    "df_new = feature_selection(df, col_use)"
   ]
  },
  {
   "cell_type": "code",
   "execution_count": 6,
   "id": "e0bc741c",
   "metadata": {},
   "outputs": [],
   "source": [
    "age_replace = {'18 - 34':0, '35-37':1, '38-39':2, '40-42':3, '43-44':4, '45-50':5}\n",
    "\n",
    "to_int = ['Patient Age at Treatment', \n",
    "          'Total Number of Previous cycles, Both IVF and DI',\n",
    "          'Total Number of Previous treatments, Both IVF and DI at clinic', \n",
    "          'Total Number of Previous IVF cycles',\n",
    "          'Total Number of Previous DI cycles',\n",
    "          'Total number of previous pregnancies, Both IVF and DI',\n",
    "          'Total number of IVF pregnancies',\n",
    "         'Total number of live births - conceived through IVF or DI']\n",
    "\n",
    "to_dummy = ['Type of treatment - IVF or DI', \n",
    "          'Specific treatment type',\n",
    "          'Sperm From']\n",
    "\n",
    "df_new = feature_engineering(df_new, age_replace, to_int, to_dummy)"
   ]
  },
  {
   "cell_type": "code",
   "execution_count": 7,
   "id": "de0d93e6",
   "metadata": {},
   "outputs": [
    {
     "name": "stdout",
     "output_type": "stream",
     "text": [
      "<class 'pandas.core.frame.DataFrame'>\n",
      "Int64Index: 119210 entries, 0 to 158491\n",
      "Data columns (total 54 columns):\n",
      " #   Column                                                          Non-Null Count   Dtype  \n",
      "---  ------                                                          --------------   -----  \n",
      " 0   Patient Age at Treatment                                        119210 non-null  int64  \n",
      " 1   Total Number of Previous cycles, Both IVF and DI                119210 non-null  int64  \n",
      " 2   Total Number of Previous treatments, Both IVF and DI at clinic  119210 non-null  int64  \n",
      " 3   Total Number of Previous IVF cycles                             119210 non-null  int64  \n",
      " 4   Total Number of Previous DI cycles                              119210 non-null  int64  \n",
      " 5   Total number of previous pregnancies, Both IVF and DI           119210 non-null  int64  \n",
      " 6   Total number of IVF pregnancies                                 119210 non-null  int64  \n",
      " 7   Total number of DI pregnancies                                  119210 non-null  int64  \n",
      " 8   Total number of live births - conceived through IVF or DI       119210 non-null  int64  \n",
      " 9   Total number of live births - conceived through IVF             119210 non-null  int64  \n",
      " 10  Total number of live births - conceived through DI              119210 non-null  int64  \n",
      " 11  Type of Infertility - Female Primary                            119210 non-null  int64  \n",
      " 12  Type of Infertility - Female Secondary                          119210 non-null  int64  \n",
      " 13  Type of Infertility - Male Primary                              119210 non-null  int64  \n",
      " 14  Type of Infertility - Male Secondary                            119210 non-null  int64  \n",
      " 15  Type of Infertility -Couple Primary                             119210 non-null  int64  \n",
      " 16  Type of Infertility -Couple Secondary                           119210 non-null  int64  \n",
      " 17  Cause  of Infertility - Tubal disease                           119210 non-null  int64  \n",
      " 18  Cause of Infertility - Ovulatory Disorder                       119210 non-null  int64  \n",
      " 19  Cause of Infertility - Male Factor                              119210 non-null  int64  \n",
      " 20  Cause of Infertility - Patient Unexplained                      119210 non-null  int64  \n",
      " 21  Cause of Infertility - Endometriosis                            119210 non-null  int64  \n",
      " 22  Stimulation used                                                119210 non-null  int64  \n",
      " 23  Live Birth Occurrence                                           119210 non-null  float64\n",
      " 24  Number of Live Births                                           119210 non-null  int64  \n",
      " 25  Number of foetal sacs with fetal pulsation                      119210 non-null  int64  \n",
      " 26  Type of treatment - IVF or DI_DI                                119210 non-null  uint8  \n",
      " 27  Type of treatment - IVF or DI_IVF                               119210 non-null  uint8  \n",
      " 28  Specific treatment type_FER                                     119210 non-null  uint8  \n",
      " 29  Specific treatment type_Generic DI                              119210 non-null  uint8  \n",
      " 30  Specific treatment type_ICI                                     119210 non-null  uint8  \n",
      " 31  Specific treatment type_ICSI                                    119210 non-null  uint8  \n",
      " 32  Specific treatment type_ICSI / AH                               119210 non-null  uint8  \n",
      " 33  Specific treatment type_ICSI / AH:Unknown                       119210 non-null  uint8  \n",
      " 34  Specific treatment type_ICSI / BLASTOCYST                       119210 non-null  uint8  \n",
      " 35  Specific treatment type_ICSI / BLASTOCYST :ICSI                 119210 non-null  uint8  \n",
      " 36  Specific treatment type_ICSI / BLASTOCYST :IVF / BLASTOCYST     119210 non-null  uint8  \n",
      " 37  Specific treatment type_ICSI / BLASTOCYST:IVF / BLASTOCYST      119210 non-null  uint8  \n",
      " 38  Specific treatment type_ICSI:ICSI                               119210 non-null  uint8  \n",
      " 39  Specific treatment type_ICSI:IVF                                119210 non-null  uint8  \n",
      " 40  Specific treatment type_ICSI:Unknown                            119210 non-null  uint8  \n",
      " 41  Specific treatment type_IUI                                     119210 non-null  uint8  \n",
      " 42  Specific treatment type_IUI:ICI                                 119210 non-null  uint8  \n",
      " 43  Specific treatment type_IVF                                     119210 non-null  uint8  \n",
      " 44  Specific treatment type_IVF / AH                                119210 non-null  uint8  \n",
      " 45  Specific treatment type_IVF / BLASTOCYST                        119210 non-null  uint8  \n",
      " 46  Specific treatment type_IVF:ICSI                                119210 non-null  uint8  \n",
      " 47  Specific treatment type_IVF:IVF                                 119210 non-null  uint8  \n",
      " 48  Specific treatment type_IVF:Unknown                             119210 non-null  uint8  \n",
      " 49  Specific treatment type_IVI                                     119210 non-null  uint8  \n",
      " 50  Specific treatment type_Unknown                                 119210 non-null  uint8  \n",
      " 51  Sperm From_Donor                                                119210 non-null  uint8  \n",
      " 52  Sperm From_Partner                                              119210 non-null  uint8  \n",
      " 53  Sperm From_not assigned                                         119210 non-null  uint8  \n",
      "dtypes: float64(1), int64(25), uint8(28)\n",
      "memory usage: 27.7 MB\n"
     ]
    }
   ],
   "source": [
    "df_new.info()"
   ]
  },
  {
   "cell_type": "markdown",
   "id": "714700a0",
   "metadata": {},
   "source": [
    "Split data menjadi train, val, dan test agar siap dimasukan ke model."
   ]
  },
  {
   "cell_type": "code",
   "execution_count": 8,
   "id": "fc8c4d68",
   "metadata": {},
   "outputs": [],
   "source": [
    "from sklearn.model_selection import train_test_split\n",
    "\n",
    "def split(df, target, rand, testsize):\n",
    "    y = df[target]\n",
    "    X = df.loc[:, df.columns != target]\n",
    "    \n",
    "    X_train, X_test, y_train, y_test = train_test_split(X, y, test_size=testsize*2, random_state=rand)\n",
    "    X_val, X_test, y_val, y_test = train_test_split(X_test, y_test, test_size=0.5, random_state=rand)\n",
    "    \n",
    "    return X_train, X_val, X_test, y_train, y_val, y_test"
   ]
  },
  {
   "cell_type": "code",
   "execution_count": 9,
   "id": "e015a0e2",
   "metadata": {},
   "outputs": [],
   "source": [
    "target = 'Live Birth Occurrence'\n",
    "rand = 42\n",
    "test_size = 0.2\n",
    "\n",
    "X_train, X_val, X_test, y_train, y_val, y_test = split(df_new, target, rand, test_size)"
   ]
  },
  {
   "cell_type": "markdown",
   "id": "a60daf51",
   "metadata": {},
   "source": [
    "Menyimpan data Train, Validation, dan Test dalam bentuk csv ke folder data"
   ]
  },
  {
   "cell_type": "code",
   "execution_count": 11,
   "id": "2c4b4cd4",
   "metadata": {},
   "outputs": [
    {
     "data": {
      "text/plain": [
       "['../output/y_test.pkl']"
      ]
     },
     "execution_count": 11,
     "metadata": {},
     "output_type": "execute_result"
    }
   ],
   "source": [
    "joblib.dump(X_train, '../output/X_train.pkl')\n",
    "joblib.dump(X_train, '../output/X_val.pkl')\n",
    "joblib.dump(X_train, '../output/X_test.pkl')\n",
    "joblib.dump(X_train, '../output/y_train.pkl')\n",
    "joblib.dump(X_train, '../output/y_val.pkl')\n",
    "joblib.dump(X_train, '../output/y_test.pkl')"
   ]
  },
  {
   "cell_type": "code",
   "execution_count": null,
   "id": "cf9d4f94",
   "metadata": {},
   "outputs": [],
   "source": []
  }
 ],
 "metadata": {
  "interpreter": {
   "hash": "fdd03b686e3731f5eec8f78e18ef5652466e09a34268c542dd1a45c7b5b32c95"
  },
  "kernelspec": {
   "display_name": "Python 3",
   "language": "python",
   "name": "python3"
  },
  "language_info": {
   "codemirror_mode": {
    "name": "ipython",
    "version": 3
   },
   "file_extension": ".py",
   "mimetype": "text/x-python",
   "name": "python",
   "nbconvert_exporter": "python",
   "pygments_lexer": "ipython3",
   "version": "3.8.11"
  }
 },
 "nbformat": 4,
 "nbformat_minor": 5
}
